{
 "cells": [
  {
   "cell_type": "markdown",
   "id": "574e8b92",
   "metadata": {},
   "source": [
    "OOP - Object Oriented Programming"
   ]
  },
  {
   "cell_type": "markdown",
   "id": "6c7d7616",
   "metadata": {},
   "source": [
    "OOP - Object Oriented PRogramming\n",
    "Python is an object-oriented language, allowing you to structure your code using classes and objects for\n",
    "better organization and reusability\n",
    "\n",
    "### Advantages:\n",
    "- Provides a clear structure to programs\n",
    "- Makes code easier to maintain, reuse and debug\n",
    "- Helps keep your code DRY (Do not Repeat Yourself)\n",
    "- Allows to build reusable applications with less code."
   ]
  },
  {
   "cell_type": "markdown",
   "id": "d281335b",
   "metadata": {},
   "source": [
    "### Classes and Objects\n",
    "\n",
    "A class defines what an object should look like and an object is created based on that class.\n",
    "For example:\n",
    "Class -> Fruit\n",
    "Objects -> Apple, Banana, Mango\n",
    "\n",
    "Class -> Car\n",
    "Onjects -> Audi, Tesla, Toyota\n",
    "\n",
    "### The four pillars of OOP\n",
    "- Encapsulation\n",
    "- Abstraction\n",
    "- Inheritance\n",
    "- Polymorphism"
   ]
  },
  {
   "cell_type": "code",
   "execution_count": null,
   "id": "f23e6fa7",
   "metadata": {},
   "outputs": [
    {
     "name": "stdout",
     "output_type": "stream",
     "text": [
      "5\n",
      "5\n"
     ]
    }
   ],
   "source": [
    "# Syntax\n",
    "# Reserved keyword 'clas' + name of the class\n",
    "# Note: the name of the class should follow the Pascal Case notation\n",
    "class MyClass:\n",
    "    x = 5\n",
    "\n",
    "p1 = MyClass()\n",
    "p2 = MyClass()\n",
    "p3 = MyClass()\n",
    "print(p1.x)\n",
    "print(p2.x)\n"
   ]
  },
  {
   "cell_type": "code",
   "execution_count": null,
   "id": "f2fd638e",
   "metadata": {},
   "outputs": [
    {
     "name": "stdout",
     "output_type": "stream",
     "text": [
      "Joshua 32\n",
      "Brittany 35\n",
      "Hello my name is Joshua\n",
      "Joshua 25\n"
     ]
    }
   ],
   "source": [
    "class Person:\n",
    "    #Constructor - Executres when initializing an object\n",
    "    def __init__(self,name,age):\n",
    "        self.name = name\n",
    "        self.age = age\n",
    "\n",
    "    def my_func(self):\n",
    "        print(\"Hello my name is \" + self.name)\n",
    "\n",
    "    #To String - returns the values of the object instead of the memory location\n",
    "    def __str__(self):\n",
    "        return f\"{self.name} {self.age}\"\n",
    "\n",
    "p1 = Person(\"Joshua\", 32)\n",
    "p2 = Person(\"Brittany\", 35)\n",
    "print(p1)\n",
    "print(p2)\n",
    "\n",
    "p1.my_func()\n",
    "p1.age = 25\n",
    "print(p1)\n",
    "\n"
   ]
  },
  {
   "cell_type": "markdown",
   "id": "cc456d6d",
   "metadata": {},
   "source": [
    "# Data Structures\n",
    "\n",
    "DS is about how data can be stored in different structures (accessing, searching, inserting and deleting)\n",
    "\n",
    "Algorithms is about how to solve different problems, often by searching through and manipulating data \n",
    "structures\n",
    "\n",
    "## Nodes and SLL (Single Linked-Lists)\n",
    "\n",
    "Differences between arrays and linked lists:\n",
    "1. We dont need to preallocate space\n",
    "2. Insertion is easy"
   ]
  },
  {
   "cell_type": "code",
   "execution_count": null,
   "id": "54520886",
   "metadata": {},
   "outputs": [
    {
     "name": "stdout",
     "output_type": "stream",
     "text": [
      "[298, 305, 320, 301, 292]\n",
      "[298, 284, 305, 320, 301, 292]\n"
     ]
    }
   ],
   "source": [
    "# Arrays\n",
    "\n",
    "stock_prices = [298,305,320,301,292]\n",
    "print(stock_prices)\n",
    "\"\"\"\"\n",
    "[298] -> 0x00500 -> 0\n",
    "[305] -> 0x00504 -> 1\n",
    "[320] -> 0x00508 -> 2\n",
    "[301] -> 0x0050A -> 3\n",
    "[292] -> 0x0050F -> 4\n",
    "\"\"\"\n",
    "stock_prices.insert(1,284)\n",
    "\n",
    "# Insertion = 0(n)\n",
    "# [298] -> 0x00500 -> 0\n",
    "# [284] -> 0x00504 -> 1\n",
    "# [305] -> 0x00508 -> 2\n",
    "# [320] -> 0x0050A -> 3\n",
    "# [301] -> 0x0050F -> 4\n",
    "# [292] -> 0x00510\n",
    "# [?] -> 0x00514\n",
    "# [?] -> 0x00518\n",
    "# ...\n",
    "# [?] -> 0x00600\n",
    "\n",
    "print(stock_prices)"
   ]
  },
  {
   "cell_type": "code",
   "execution_count": 32,
   "id": "e79ec96f",
   "metadata": {},
   "outputs": [
    {
     "name": "stdout",
     "output_type": "stream",
     "text": [
      "Linked list is Empty!\n",
      "20-->298-->3-->None\n",
      "3\n",
      "20-->298-->3-->None\n"
     ]
    }
   ],
   "source": [
    "# Single Linked- Lists\n",
    "\n",
    "# Node -> [data | link]\n",
    "\"\"\"\n",
    "0x00500             0x00A1             0x00C5           0x00D7        0x00C0\n",
    "[298 | 0x00A1] -> [305 | 0x00C5]-> [320 | 0x00C0] -> [301|0x00C0]-> [292 | null]\n",
    "\n",
    "Inserting element 284 at position 1\n",
    "\n",
    "0x00500            0xC702            0x00A1            0x00C5            0x00D7            0x00C0\n",
    "[298 | 0xC702] -> [284 | 0x00A1] -> [305 | 0x00C5] -> [320 | 0x00C0] -> [301 | 0x00C0] -> [292 | null]\n",
    "     0                  1                2                 3                 4                 5\n",
    "\n",
    "Insert Element at beginning = 0(1)\n",
    "Delete Element at beginning = 0(1)\n",
    "Insert/Delete Element at the end = 0(n)\n",
    "Linked List Traversal = 0(n)\n",
    "Accessing Element by value = 0(n)\n",
    "\"\"\"\n",
    "\n",
    "class Node:\n",
    "    def __init__(self, data, next):\n",
    "        self.data = data\n",
    "        self.next = next\n",
    "\n",
    "class LinkedList:\n",
    "    def __init__(self):\n",
    "        self.head = None\n",
    "\n",
    "    def insert_at_beginning(self,data): #0(1)\n",
    "        node = Node(data, self.head)\n",
    "        self.head = node\n",
    "\n",
    "    def insert_at_end(self,data): #0(n)\n",
    "        if self.head is None:\n",
    "            self.head = Node(data, None)\n",
    "            return\n",
    "\n",
    "        itr = self.head\n",
    "        while itr.next: #False\n",
    "            itr = itr.next\n",
    "\n",
    "        itr.next = Node(data,None)\n",
    "\n",
    "    def print(self):\n",
    "        if self.head is None:\n",
    "            print(\"Linked list is Empty!\")\n",
    "            return\n",
    "        current = self.head\n",
    "        nodes_str = ''\n",
    "        while current:\n",
    "            nodes_str += str(current.data) + '-->'\n",
    "            current = current.next\n",
    "        print(nodes_str + \"None\")\n",
    "    \n",
    "    def __str__(self):\n",
    "        if self.head is None:\n",
    "            print(\"Linked List is Empty\")\n",
    "            return\n",
    "        current = self.head\n",
    "        nodes_str = ''\n",
    "        while current:\n",
    "            nodes_str += str(current.data)+ '-->'\n",
    "            current = current.next\n",
    "        return nodes_str + \"None\"\n",
    "    \n",
    "    def length(self):\n",
    "        count = 0\n",
    "        current = self.head\n",
    "        while current:\n",
    "            count += 1\n",
    "            current = current.next\n",
    "        return count\n",
    "\n",
    "\n",
    "linked_list = LinkedList()\n",
    "linked_list.print()\n",
    "linked_list.insert_at_beginning(298)\n",
    "linked_list.insert_at_beginning(20)\n",
    "linked_list.insert_at_end(3)\n",
    "linked_list.print()\n",
    "print(linked_list.length())\n",
    "print(linked_list)"
   ]
  },
  {
   "cell_type": "code",
   "execution_count": null,
   "id": "399d10c4",
   "metadata": {},
   "outputs": [],
   "source": []
  }
 ],
 "metadata": {
  "kernelspec": {
   "display_name": "Python 3",
   "language": "python",
   "name": "python3"
  },
  "language_info": {
   "codemirror_mode": {
    "name": "ipython",
    "version": 3
   },
   "file_extension": ".py",
   "mimetype": "text/x-python",
   "name": "python",
   "nbconvert_exporter": "python",
   "pygments_lexer": "ipython3",
   "version": "3.13.5"
  }
 },
 "nbformat": 4,
 "nbformat_minor": 5
}
