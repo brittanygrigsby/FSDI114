{
 "cells": [
  {
   "cell_type": "markdown",
   "id": "fdade33c",
   "metadata": {},
   "source": [
    "# Class 2 - More problems, Big O Notation and Introduction to DSA"
   ]
  },
  {
   "cell_type": "markdown",
   "id": "6ff395df",
   "metadata": {},
   "source": [
    "# Problem 1\n",
    "## Anagram Check\n",
    "\n",
    "Create a function that takes two strings as parameters and returns True if they are anagrams of each other, False otherwise.\n",
    "\n",
    "Examples\n",
    "1. heart and earth\n",
    "2. scar and cars\n",
    "3. star and rats\n",
    "etc\n",
    "\n",
    "### Criteria\n",
    "Two strings are anagrams of each other if and only if all the criteria below are met:\n",
    "    They must use all the same characters\n",
    "    They must be of exactly the same length (in characters)"
   ]
  },
  {
   "cell_type": "code",
   "execution_count": null,
   "id": "a1bdd8bc",
   "metadata": {},
   "outputs": [
    {
     "name": "stdout",
     "output_type": "stream",
     "text": [
      "logic\n"
     ]
    },
    {
     "data": {
      "text/plain": [
       "True"
      ]
     },
     "execution_count": 4,
     "metadata": {},
     "output_type": "execute_result"
    }
   ],
   "source": [
    "#def two_strings (heart,earth):\n",
    "    #rest = True\n",
    "   \n",
    "   # if len(heart) == len(earth):\n",
    "        #Logic\n",
    "       # print('logic')\n",
    "   # else: \n",
    "        #rest = False\n",
    "\n",
    "\n",
    "    #return rest\n",
    "#two_strings('star', 'rats')"
   ]
  },
  {
   "cell_type": "code",
   "execution_count": null,
   "id": "6179fbf1",
   "metadata": {},
   "outputs": [
    {
     "data": {
      "text/plain": [
       "False"
      ]
     },
     "execution_count": 14,
     "metadata": {},
     "output_type": "execute_result"
    }
   ],
   "source": [
    "def check_anagrams(w1,w2):\n",
    "    w1 = w1.replace(\" \",\" \").lower()\n",
    "    w2 = w2.replace(\" \",\" \").lower()\n",
    "    dict1 = {} # O(1)\n",
    "    \n",
    "    dict2 = {}\n",
    "\n",
    "    if len(w1) == len(w2):\n",
    "        for letter in w1:\n",
    "            if dict1.get(letter) == None:\n",
    "                dict1[letter] = 1\n",
    "            else:\n",
    "                dict1[letter] += 1\n",
    "        for letter in w2:\n",
    "            if dict2.get(letter) == None:\n",
    "                dict2[letter] = 1\n",
    "            else:\n",
    "                dict2[letter] += 1\n",
    "        return dict1 == dict2\n",
    "\n",
    "    else:\n",
    "        return False\n",
    "    \n",
    "check_anagrams(\"rats\", \"stars\")\n"
   ]
  }
 ],
 "metadata": {
  "kernelspec": {
   "display_name": "Python 3",
   "language": "python",
   "name": "python3"
  },
  "language_info": {
   "codemirror_mode": {
    "name": "ipython",
    "version": 3
   },
   "file_extension": ".py",
   "mimetype": "text/x-python",
   "name": "python",
   "nbconvert_exporter": "python",
   "pygments_lexer": "ipython3",
   "version": "3.13.5"
  }
 },
 "nbformat": 4,
 "nbformat_minor": 5
}
