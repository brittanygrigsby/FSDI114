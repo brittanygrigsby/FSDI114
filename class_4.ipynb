{
 "cells": [
  {
   "cell_type": "markdown",
   "id": "7adf5125",
   "metadata": {},
   "source": [
    "# Class 4 - Stacks and Queues\n",
    "\n",
    "## Stacks\n",
    "A stack is an ordered collection of elements where items are added and removed from one end, commonly referred to as the \"top\". The ordering principle is referred to as LIFO (Last in, First out)\n",
    "\n",
    "## Queues\n",
    "A ques is an ordered collection of elements where items are added and removed from **opposite** ends, commonly referred to as the \"front\" and \"back\" or \"rear\" of the queue. The ordering principle is referred to as FIFO (first in, first out) or \"first come first serve\"."
   ]
  },
  {
   "cell_type": "code",
   "execution_count": null,
   "id": "bb6ebeea",
   "metadata": {},
   "outputs": [
    {
     "name": "stdout",
     "output_type": "stream",
     "text": [
      "25\n",
      "25\n",
      "[30, 33]\n"
     ]
    },
    {
     "data": {
      "text/plain": [
       "False"
      ]
     },
     "execution_count": 5,
     "metadata": {},
     "output_type": "execute_result"
    }
   ],
   "source": [
    "class Stack:\n",
    "    def __init__(self):\n",
    "        self.items = []\n",
    "\n",
    "    def push(self, value):\n",
    "        self.items.append(value)\n",
    "\n",
    "    def pop(self):\n",
    "        return self.items.pop()\n",
    "    \n",
    "    def size(self):\n",
    "        return len(self.items)\n",
    "\n",
    "    def peek(self):\n",
    "        return self.items[len(self.items)-1]\n",
    "\n",
    "    def is_empty(self):\n",
    "        return self.items == []\n",
    "\n",
    "stack = Stack()\n",
    "stack.push(30)\n",
    "stack.push(33)\n",
    "stack.push(25)\n",
    "print(stack.peek())\n",
    "print(stack.pop())\n",
    "print(stack.peek())\n",
    "print(stack.items)\n",
    "stack.size()\n",
    "stack.is_empty()"
   ]
  },
  {
   "cell_type": "code",
   "execution_count": 8,
   "id": "01ca0202",
   "metadata": {},
   "outputs": [
    {
     "name": "stdout",
     "output_type": "stream",
     "text": [
      "['Maryna', 'Ray', 'Brittany', 'Britney', 'Yaque', 'Alexander', 'David', 'Tatiana', 'James']\n"
     ]
    },
    {
     "data": {
      "text/plain": [
       "'Maryna'"
      ]
     },
     "execution_count": 8,
     "metadata": {},
     "output_type": "execute_result"
    }
   ],
   "source": [
    "class Queue:\n",
    "    def __init__(self):\n",
    "        self.items = []\n",
    "\n",
    "    def enqueue(self, element):\n",
    "        self.items.insert(0, element)\n",
    "    \n",
    "    def dequeue(self):\n",
    "        return self.items.pop()\n",
    "    \n",
    "    def peek(self):\n",
    "        return self.items[len(self.items)-1]\n",
    "    \n",
    "    def size(self):\n",
    "        return len(self.items)\n",
    "    \n",
    "    def is_empty(self):\n",
    "        return self.items ==[]\n",
    "\n",
    "class_queue = Queue()\n",
    "class_queue.enqueue('James')\n",
    "class_queue.enqueue('Tatiana')\n",
    "class_queue.enqueue('David')\n",
    "class_queue.enqueue('Alexander')\n",
    "class_queue.enqueue('Yaque')\n",
    "class_queue.enqueue('Britney')\n",
    "class_queue.enqueue('Brittany')\n",
    "class_queue.enqueue('Ray')\n",
    "class_queue.enqueue('Maryna')\n",
    "print(class_queue.items)\n",
    "class_queue.peek()\n",
    "class_queue.dequeue()\n",
    "class_queue.peek()\n",
    "class_queue.dequeue()\n",
    "class_queue.peek()\n",
    "class_queue.dequeue()\n",
    "class_queue.peek()\n",
    "class_queue.dequeue()\n",
    "class_queue.peek()\n",
    "class_queue.dequeue()\n",
    "class_queue.peek()\n",
    "class_queue.dequeue()\n",
    "class_queue.peek()\n",
    "class_queue.dequeue()\n",
    "class_queue.peek()\n",
    "class_queue.dequeue()\n",
    "class_queue.peek()\n",
    "class_queue.dequeue()\n",
    "\n",
    "\n"
   ]
  },
  {
   "cell_type": "code",
   "execution_count": 14,
   "id": "f9cf09c1",
   "metadata": {},
   "outputs": [
    {
     "data": {
      "text/plain": [
       "60"
      ]
     },
     "execution_count": 14,
     "metadata": {},
     "output_type": "execute_result"
    }
   ],
   "source": [
    "# Custom Stack Class\n",
    "\n",
    "class Node:\n",
    "    def __init__(self, data):\n",
    "        self.data = data\n",
    "        self.below = None\n",
    "\n",
    "class CustomStack:\n",
    "    def __init__(self):\n",
    "        self.top = None\n",
    "\n",
    "    def push(self,value):\n",
    "        if not self.top:\n",
    "            self.top = Node(value)\n",
    "        else:\n",
    "            new_node = Node(value)\n",
    "            new_node.below = self.top\n",
    "            self.top = new_node\n",
    "    \n",
    "    def pop(self):\n",
    "        if not self.top:\n",
    "            raise IndexError(\"Stack is Empty\")\n",
    "        else:\n",
    "            current = self.top.data\n",
    "            self.top = self.top.below\n",
    "            return current\n",
    "        \n",
    "    def is_empty(self):\n",
    "        return self.top == None\n",
    "\n",
    "custom_stack = CustomStack()\n",
    "custom_stack.push(60)\n",
    "custom_stack.push(70)\n",
    "custom_stack.push(20)\n",
    "custom_stack.pop()\n",
    "custom_stack.pop()\n",
    "custom_stack.pop()\n",
    "\n",
    "\n",
    "\n"
   ]
  },
  {
   "cell_type": "code",
   "execution_count": null,
   "id": "7472cc5d",
   "metadata": {},
   "outputs": [],
   "source": []
  }
 ],
 "metadata": {
  "kernelspec": {
   "display_name": "Python 3",
   "language": "python",
   "name": "python3"
  },
  "language_info": {
   "codemirror_mode": {
    "name": "ipython",
    "version": 3
   },
   "file_extension": ".py",
   "mimetype": "text/x-python",
   "name": "python",
   "nbconvert_exporter": "python",
   "pygments_lexer": "ipython3",
   "version": "3.13.5"
  }
 },
 "nbformat": 4,
 "nbformat_minor": 5
}
